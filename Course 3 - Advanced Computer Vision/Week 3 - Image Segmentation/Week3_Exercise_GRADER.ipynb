{
 "cells": [
  {
   "cell_type": "markdown",
   "metadata": {
    "id": "MZ3g9dJxSxmN"
   },
   "source": [
    "##Imports"
   ]
  },
  {
   "cell_type": "code",
   "execution_count": 2,
   "metadata": {
    "colab": {
     "base_uri": "https://localhost:8080/",
     "height": 34
    },
    "id": "aifz2907kxYN",
    "outputId": "eb5e3b73-f1a6-42f2-8bf1-47dc12691930"
   },
   "outputs": [
    {
     "name": "stdout",
     "output_type": "stream",
     "text": [
      "Tensorflow version 2.3.1\n"
     ]
    }
   ],
   "source": [
    "import os, re, time, json\n",
    "import PIL.Image, PIL.ImageFont, PIL.ImageDraw\n",
    "import numpy as np\n",
    "\n",
    "import tensorflow as tf\n",
    "from matplotlib import pyplot as plt\n",
    "import tensorflow_datasets as tfds\n",
    "import seaborn as sns\n",
    "from sklearn.model_selection import train_test_split\n",
    "import os\n",
    "\n",
    "print(\"Tensorflow version \" + tf.__version__)"
   ]
  },
  {
   "cell_type": "markdown",
   "metadata": {
    "id": "0m9CxxThS1dg"
   },
   "source": [
    "##Parameters"
   ]
  },
  {
   "cell_type": "code",
   "execution_count": 3,
   "metadata": {
    "id": "OvjweKXoe4mI"
   },
   "outputs": [],
   "source": [
    "BATCH_SIZE = 32\n",
    "\n",
    "#There are 11 classes (0 to 9 digits + background class)\n",
    "n_classes = 11\n",
    "\n",
    "colors = [tuple(np.random.randint(256, size=3) / 255.0) for i in range(n_classes)]"
   ]
  },
  {
   "cell_type": "markdown",
   "metadata": {
    "id": "7RYh6cCzXE6R"
   },
   "source": [
    "##Download Dataset"
   ]
  },
  {
   "cell_type": "markdown",
   "metadata": {
    "id": "QUGGF3wfqYni"
   },
   "source": [
    "[M2NIST](https://www.kaggle.com/farhanhubble/multimnistm2nist) is **multi digit** [MNIST](http://yann.lecun.com/exdb/mnist/). \n",
    "Each image has upto 3 digits from MNIST digits and the corresponding labels file has the segmentstion masks.\n",
    "\n",
    "The dataset is available on [Kaggle](https://www.kaggle.com).\n",
    "Link to the dataset: https://www.kaggle.com/farhanhubble/multimnistm2nist\n",
    "\n",
    "To make it easier for you, we're hosting it on Google Cloud so you can download without kaggle credentials\n"
   ]
  },
  {
   "cell_type": "code",
   "execution_count": 4,
   "metadata": {
    "colab": {
     "base_uri": "https://localhost:8080/",
     "height": 204
    },
    "id": "ROok0i9rMcu0",
    "outputId": "3eadc337-f062-4fae-d5d6-abb03df24e80"
   },
   "outputs": [
    {
     "name": "stdout",
     "output_type": "stream",
     "text": [
      "--2020-10-27 12:58:37--  https://storage.googleapis.com/laurencemoroney-blog.appspot.com/m2nist.zip\n",
      "Resolving storage.googleapis.com (storage.googleapis.com)... 172.217.172.16, 172.217.173.208, 216.58.222.240, ...\n",
      "Connecting to storage.googleapis.com (storage.googleapis.com)|172.217.172.16|:443... connected.\n",
      "HTTP request sent, awaiting response... 200 OK\n",
      "Length: 17378168 (17M) [application/zip]\n",
      "Saving to: ‘/tmp/m2nist.zip’\n",
      "\n",
      "/tmp/m2nist.zip     100%[===================>]  16.57M  18.2MB/s    in 0.9s    \n",
      "\n",
      "2020-10-27 12:58:38 (18.2 MB/s) - ‘/tmp/m2nist.zip’ saved [17378168/17378168]\n",
      "\n"
     ]
    }
   ],
   "source": [
    "!wget --no-check-certificate \\\n",
    "    https://storage.googleapis.com/laurencemoroney-blog.appspot.com/m2nist.zip \\\n",
    "    -O /tmp/m2nist.zip\n",
    "import os\n",
    "import zipfile\n",
    "\n",
    "\n",
    "\n",
    "local_zip = '/tmp/m2nist.zip'\n",
    "zip_ref = zipfile.ZipFile(local_zip, 'r')\n",
    "zip_ref.extractall('/tmp/training')\n",
    "zip_ref.close()"
   ]
  },
  {
   "cell_type": "markdown",
   "metadata": {
    "id": "xy17LYR7XJNa"
   },
   "source": [
    "##Load and Pre Process Dataset"
   ]
  },
  {
   "cell_type": "markdown",
   "metadata": {
    "id": "LXGMrWnkrvpK"
   },
   "source": [
    "This dataset can be easily preprocessed since it is available as **Numpy Array Files (.npy)**\n",
    "\n",
    "1. **tmp/training/combined.npy** has the image files containing the multiple MNIST digits. Each image is of size **64 x 84**.\n",
    "\n",
    "2. **tmp/training/segmented.npy** has corresponding segmentation masks. Each segmentation mask is also of size **64 x 84**.\n",
    "\n",
    "This dataset has **5000** samples. You can make appropriate training and validation splits as required for the problem."
   ]
  },
  {
   "cell_type": "code",
   "execution_count": 5,
   "metadata": {
    "id": "Jy_pw5I2-xLP"
   },
   "outputs": [],
   "source": [
    "#Training, validation and test sizes\n",
    "train_size = 4000\n",
    "val_size = 800\n",
    "test_size = 200\n",
    "\n",
    "'''\n",
    "This function maps image and segmentation masks. Images are normalized so that each pixel is in the range [-1, 1]\n",
    "'''\n",
    "def read_image_and_annotation(image, annotation):\n",
    "  image = tf.cast(image, dtype=tf.float32)\n",
    "  image = tf.reshape(image, (image.shape[0], image.shape[1], 1,))\n",
    "  annotation = tf.cast(annotation, dtype=tf.int32)\n",
    "  image = image / 127.5\n",
    "  image -= 1\n",
    "  return image, annotation\n",
    "\n",
    "'''\n",
    "This function creates training dataset from training splits of images and segmentation masks.\n",
    "'''\n",
    "def get_training_dataset(images, annos):\n",
    "  training_dataset = tf.data.Dataset.from_tensor_slices((images, annos))\n",
    "  training_dataset = training_dataset.map(read_image_and_annotation)\n",
    "\n",
    "  training_dataset = training_dataset.shuffle(512, reshuffle_each_iteration=True)\n",
    "  training_dataset = training_dataset.batch(BATCH_SIZE)\n",
    "  training_dataset = training_dataset.repeat()\n",
    "  training_dataset = training_dataset.prefetch(-1)\n",
    "\n",
    "  return training_dataset\n",
    "\n",
    "\n",
    "'''\n",
    "This function creates validation dataset from validation splits of images and segmentation masks.\n",
    "'''\n",
    "def get_validation_dataset(images, annos):\n",
    "  validation_dataset = tf.data.Dataset.from_tensor_slices((images, annos))\n",
    "  validation_dataset = validation_dataset.map(read_image_and_annotation)\n",
    "  validation_dataset = validation_dataset.batch(BATCH_SIZE)\n",
    "  validation_dataset = validation_dataset.repeat()\n",
    "\n",
    "  return validation_dataset\n",
    "\n",
    "\n",
    "'''\n",
    "This function creates test dataset from test splits of images and segmentation masks.\n",
    "'''\n",
    "def get_test_dataset(images, annos):\n",
    "  test_dataset = tf.data.Dataset.from_tensor_slices((images, annos))\n",
    "  test_dataset = test_dataset.map(read_image_and_annotation)\n",
    "  test_dataset = test_dataset.batch(BATCH_SIZE, drop_remainder=True)\n",
    "\n",
    "  return test_dataset\n",
    "\n",
    "'''\n",
    "This function loads the images and segments as numpy arrays from npy files and makes splits for training, validation and test datasets.\n",
    "'''\n",
    "\n",
    "def load_images_and_segments():\n",
    "  #Loads images and segmentation masks.\n",
    "  images = np.load('./training/combined.npy')\n",
    "  segments = np.load('./training/segmented.npy')\n",
    "\n",
    "  #Makes training, validation, test splits from loaded images and segmentation masks.\n",
    "  train_images, val_images, train_annos, val_annos = train_test_split(images, segments, test_size=0.2, shuffle=True)\n",
    "  val_images, test_images, val_annos, test_annos = train_test_split(val_images, val_annos, test_size=0.2, shuffle=True)\n",
    "\n",
    "  return (train_images, train_annos), (val_images, val_annos), (test_images, test_annos)\n"
   ]
  },
  {
   "cell_type": "code",
   "execution_count": 6,
   "metadata": {
    "id": "hIS70_um_Y7n"
   },
   "outputs": [],
   "source": [
    "#Load Dataset\n",
    "train_slices, val_slices, test_slices = load_images_and_segments()\n",
    "\n",
    "#Create training, validation, test datasets.\n",
    "training_dataset = get_training_dataset(train_slices[0], train_slices[1])\n",
    "validation_dataset = get_validation_dataset(val_slices[0], val_slices[1])\n",
    "test_Dataset = get_test_dataset(test_slices[0], test_slices[1])\n"
   ]
  },
  {
   "cell_type": "code",
   "execution_count": 7,
   "metadata": {
    "cellView": "both",
    "id": "d46YCbvPafbp"
   },
   "outputs": [],
   "source": [
    "#@title Plot Utilities [RUN ME]\n",
    "def fuse_with_pil(images):\n",
    "  widths = (image.shape[1] for image in images)\n",
    "  heights = (image.shape[0] for image in images)\n",
    "  total_width = sum(widths)\n",
    "  max_height = max(heights)\n",
    "\n",
    "  new_im = PIL.Image.new('RGB', (total_width, max_height))\n",
    "\n",
    "  x_offset = 0\n",
    "  for im in images:\n",
    "    pil_image = PIL.Image.fromarray(np.uint8(im))\n",
    "    new_im.paste(pil_image, (x_offset,0))\n",
    "    x_offset += im.shape[1]\n",
    "  \n",
    "  return new_im\n",
    "\n",
    "def give_color_to_annotation(annotation):\n",
    "  seg_img = np.zeros( (annotation.shape[0],annotation.shape[1],3) ).astype('float')\n",
    "  for c in range(n_classes):\n",
    "    segc = (annotation == c) #np.int32(annotation[:, :, c])\n",
    "    seg_img[:,:,0] += segc*( colors[c][0] * 255.0)\n",
    "    seg_img[:,:,1] += segc*( colors[c][1] * 255.0)\n",
    "    seg_img[:,:,2] += segc*( colors[c][2] * 255.0)\n",
    "  return seg_img\n",
    "\n",
    "def show_annotation_and_prediction(image, annotation, prediction, iou_list, dice_score_list):\n",
    "  new_ann = np.argmax(annotation, axis=2)\n",
    "  true_img = give_color_to_annotation(new_ann)\n",
    "  pred_img = give_color_to_annotation(prediction)\n",
    "\n",
    "\n",
    "  image = image + 1\n",
    "  image = image * 127.5\n",
    "  image = np.reshape(image, (image.shape[0], image.shape[1],))\n",
    "  image = np.uint8(image)\n",
    "  images = [image, np.uint8(pred_img), np.uint8(true_img)]\n",
    "\n",
    "  metrics_by_id = [(idx, iou, dice_score) for idx, (iou, dice_score) in enumerate(zip(iou_list, dice_score_list)) if iou > 0.0 and idx < 10]\n",
    "  metrics_by_id.sort(key=lambda tup: tup[1], reverse=True)  # sorts in place\n",
    "\n",
    "  \n",
    "  display_string_list = [\"{}: IOU: {} Dice Score: {}\".format(idx, iou, dice_score) for idx, iou, dice_score in metrics_by_id]\n",
    "  display_string = \"\\n\".join(display_string_list)\n",
    "\n",
    "  plt.figure(figsize=(15, 4))\n",
    "\n",
    "  for idx, im in enumerate(images):\n",
    "    plt.subplot(1, 3, idx+1)\n",
    "    if idx == 1:\n",
    "      plt.xlabel(display_string)\n",
    "    plt.xticks([])\n",
    "    plt.yticks([])\n",
    "    plt.imshow(im)\n",
    "    # if idx == 1:\n",
    "    #     plt.text(0.5, 4.2, display_string, verticalalignment='center')\n",
    "\n",
    "\n",
    "  \n",
    "\n",
    "\n",
    "\n",
    "def show_annotation_and_image(image, annotation):\n",
    "  new_ann = np.argmax(annotation, axis=2)\n",
    "  seg_img = give_color_to_annotation(new_ann)\n",
    "  \n",
    "  image = image + 1\n",
    "  image = image * 127.5\n",
    "  image = np.reshape(image, (image.shape[0], image.shape[1],))\n",
    "\n",
    "  image = np.uint8(image)\n",
    "  images = [image, seg_img]\n",
    "  \n",
    "  images = [image, seg_img]\n",
    "  fused_img = fuse_with_pil(images)\n",
    "  plt.imshow(fused_img)\n",
    "\n",
    "\n",
    "def list_show_annotation(dataset):\n",
    "  ds = dataset.unbatch()\n",
    "  #ds = ds.shuffle(buffer_size=100)\n",
    "\n",
    "  plt.figure(figsize=(20, 15))\n",
    "  plt.title(\"Images And Annotations\")\n",
    "  plt.subplots_adjust(bottom=0.1, top=0.9, hspace=0.05)\n",
    "\n",
    "  for idx, (image, annotation) in enumerate(ds.take(9)):\n",
    "    plt.subplot(5, 5, idx + 1)\n",
    "    plt.yticks([])\n",
    "    plt.xticks([])\n",
    "    show_annotation_and_image(image.numpy(), annotation.numpy())\n",
    "\n",
    " "
   ]
  },
  {
   "cell_type": "markdown",
   "metadata": {
    "id": "cK621Jm8bJyj"
   },
   "source": [
    "###Let's Take a Look at the Dataset"
   ]
  },
  {
   "cell_type": "code",
   "execution_count": 8,
   "metadata": {
    "colab": {
     "base_uri": "https://localhost:8080/",
     "height": 282
    },
    "id": "AFO_hIhLWYT4",
    "outputId": "1a42dc77-e94b-41ae-e303-7edd41de0194"
   },
   "outputs": [
    {
     "data": {
      "image/png": "[encoded data removed]",
      "text/plain": [
       "<Figure size 1440x1080 with 9 Axes>"
      ]
     },
     "metadata": {},
     "output_type": "display_data"
    }
   ],
   "source": [
    "list_show_annotation(training_dataset)"
   ]
  },
  {
   "cell_type": "code",
   "execution_count": 8,
   "metadata": {
    "colab": {
     "base_uri": "https://localhost:8080/",
     "height": 282
    },
    "id": "bdgVkp8wZua0",
    "outputId": "3581be1a-2e64-493b-a3e1-5b411e826838"
   },
   "outputs": [
    {
     "data": {
      "image/png": "[encoded data removed]",
      "text/plain": [
       "<Figure size 1440x1080 with 9 Axes>"
      ]
     },
     "metadata": {
      "tags": []
     },
     "output_type": "display_data"
    }
   ],
   "source": [
    "list_show_annotation(validation_dataset)"
   ]
  },
  {
   "cell_type": "code",
   "execution_count": 9,
   "metadata": {
    "id": "ZpWpp8h4g_rE"
   },
   "outputs": [],
   "source": [
    "model = tf.keras.models.load_model(\"student_model.h5\")"
   ]
  },
  {
   "cell_type": "code",
   "execution_count": 11,
   "metadata": {
    "id": "zENjQuK0luH5"
   },
   "outputs": [],
   "source": [
    "test_steps = 200//BATCH_SIZE\n",
    "results = model.predict(test_Dataset, steps=test_steps)\n"
   ]
  },
  {
   "cell_type": "code",
   "execution_count": 12,
   "metadata": {
    "id": "0_Uj_uuV9TQt"
   },
   "outputs": [],
   "source": [
    "results = np.argmax(results, axis=3)"
   ]
  },
  {
   "cell_type": "markdown",
   "metadata": {
    "id": "hpKDUuAWX5Pj"
   },
   "source": [
    "###Visualize Predictions"
   ]
  },
  {
   "cell_type": "code",
   "execution_count": 13,
   "metadata": {
    "id": "gKTpLmly_RXb"
   },
   "outputs": [],
   "source": [
    "def class_wise_metrics(y_true, y_pred):\n",
    "  class_wise_iou = []\n",
    "  class_wise_dice_score = []\n",
    "\n",
    "  smoothening_factor = 0.00001\n",
    "\n",
    "  for i in range(n_classes):\n",
    "    intersection = np.sum((y_pred == i) * (y_true == i))\n",
    "    y_true_area = np.sum((y_true == i))\n",
    "    y_pred_area = np.sum((y_pred == i))\n",
    "    combined_area = y_true_area + y_pred_area\n",
    "    \n",
    "    iou = (intersection) / (combined_area - intersection + smoothening_factor)\n",
    "    class_wise_iou.append(iou)\n",
    "    \n",
    "    dice_score =  2 * ((intersection) / (combined_area + smoothening_factor))\n",
    "    class_wise_dice_score.append(dice_score)\n",
    "\n",
    "  return class_wise_iou, class_wise_dice_score\n",
    "\n"
   ]
  },
  {
   "cell_type": "code",
   "execution_count": 14,
   "metadata": {
    "cellView": "both",
    "colab": {
     "base_uri": "https://localhost:8080/",
     "height": 256
    },
    "id": "Hkbsk_P1fpRM",
    "outputId": "618c366f-1fc7-4582-e61c-e891e68bdbd9"
   },
   "outputs": [
    {
     "data": {
      "image/png": "[encoded data removed]",
      "text/plain": [
       "<Figure size 1080x288 with 3 Axes>"
      ]
     },
     "metadata": {},
     "output_type": "display_data"
    }
   ],
   "source": [
    "#@title Visualize Output [RUN ME]\n",
    "integer_slider = 173 #@param {type:\"slider\", min:0, max:191, step:1}\n",
    "\n",
    "ds = test_Dataset.unbatch()\n",
    "ds = ds.batch(200)\n",
    "images = []\n",
    "\n",
    "y_true_segments = []\n",
    "for image, annotation in ds.take(1):\n",
    "  y_true_segments = annotation\n",
    "  images = image\n",
    "  \n",
    "  \n",
    "  \n",
    "iou, dice_score = class_wise_metrics(np.argmax(y_true_segments[integer_slider], axis=2), results[integer_slider])  \n",
    "show_annotation_and_prediction(image[integer_slider], annotation[integer_slider], results[integer_slider], iou, dice_score)\n",
    "\n"
   ]
  },
  {
   "cell_type": "markdown",
   "metadata": {
    "id": "EiG9K4t6X9iZ"
   },
   "source": [
    "###Compute IOU Score and Dice Score"
   ]
  },
  {
   "cell_type": "code",
   "execution_count": 15,
   "metadata": {
    "colab": {
     "base_uri": "https://localhost:8080/",
     "height": 221
    },
    "id": "2706boF0CNNS",
    "outputId": "3f024b64-b437-4e2a-96fc-b41be7ca521b"
   },
   "outputs": [
    {
     "name": "stdout",
     "output_type": "stream",
     "text": [
      "Digit 0: IOU: 0.864071305722806 Dice Score: 0.9270796702573099\n",
      "Digit 1: IOU: 0.8814686300044271 Dice Score: 0.9370006131883826\n",
      "Digit 2: IOU: 0.8423462076647408 Dice Score: 0.914427705455484\n",
      "Digit 3: IOU: 0.8429935205540513 Dice Score: 0.9148089899964768\n",
      "Digit 4: IOU: 0.8446700493321996 Dice Score: 0.9157952660834753\n",
      "Digit 5: IOU: 0.8223070387018561 Dice Score: 0.9024901086785431\n",
      "Digit 6: IOU: 0.8552649967063838 Dice Score: 0.9219868840566919\n",
      "Digit 7: IOU: 0.8643431619940247 Dice Score: 0.9272361222056983\n",
      "Digit 8: IOU: 0.813582553503324 Dice Score: 0.8972103882800534\n",
      "Digit 9: IOU: 0.8360345172889192 Dice Score: 0.9106958604715168\n",
      " Grade is 84.67081981472734\n",
      "You passed\n"
     ]
    }
   ],
   "source": [
    "cls_wise_iou, cls_wise_dice_score = class_wise_metrics(np.argmax(y_true_segments, axis=3), results)\n",
    "\n",
    "average_iou = 0.0\n",
    "for idx, (iou, dice_score) in enumerate(zip(cls_wise_iou[:-1], cls_wise_dice_score[:-1])):\n",
    "  print(\"Digit {}: IOU: {} Dice Score: {}\".format(idx, iou, dice_score)) \n",
    "  average_iou += iou\n",
    "\n",
    "grade = average_iou * 10 # Divide by 10 to get the average, multiply by 100 to get the grade, so overall mult by 10\n",
    "\n",
    "print(\" Grade is \" + str(grade))\n",
    "\n",
    "PASSING_GRADE = 60\n",
    "if (grade>PASSING_GRADE):\n",
    "  print(\"You passed\")\n",
    "else:\n",
    "  print(\"You failed\")\n"
   ]
  },
  {
   "cell_type": "code",
   "execution_count": null,
   "metadata": {},
   "outputs": [],
   "source": []
  }
 ],
 "metadata": {
  "accelerator": "GPU",
  "colab": {
   "collapsed_sections": [],
   "name": "Week3-Exercise-GRADER.ipynb",
   "provenance": [],
   "toc_visible": true
  },
  "kernelspec": {
   "display_name": "Python 3.7.7 64-bit ('trax_py37': conda)",
   "language": "python",
   "name": "python37764bittraxpy37conda5b58c97b4d464a08ba487b857216d7f3"
  },
  "language_info": {
   "codemirror_mode": {
    "name": "ipython",
    "version": 3
   },
   "file_extension": ".py",
   "mimetype": "text/x-python",
   "name": "python",
   "nbconvert_exporter": "python",
   "pygments_lexer": "ipython3",
   "version": "3.7.7"
  }
 },
 "nbformat": 4,
 "nbformat_minor": 4
}
