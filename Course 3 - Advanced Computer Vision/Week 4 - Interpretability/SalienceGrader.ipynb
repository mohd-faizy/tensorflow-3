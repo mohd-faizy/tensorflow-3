{
  "nbformat": 4,
  "nbformat_minor": 0,
  "metadata": {
    "colab": {
      "name": "SalienceGrader.ipynb",
      "provenance": []
    },
    "kernelspec": {
      "name": "python3",
      "display_name": "Python 3"
    }
  },
  "cells": [
    {
      "cell_type": "code",
      "metadata": {
        "id": "HI-IHZjfkfAW"
      },
      "source": [
        "# This will compare the students salient images to the reference ones. Each one will get a score from 0-1, which will\n",
        "# then be used to calculate the final grade. It's up to you to pick the passing grade by testing the images\n",
        "# Note that this assumes the students images are in /tmp "
      ],
      "execution_count": null,
      "outputs": []
    },
    {
      "cell_type": "code",
      "metadata": {
        "id": "6cGAt0ZTing7"
      },
      "source": [
        "import cv2\n",
        "from skimage.measure import compare_ssim"
      ],
      "execution_count": null,
      "outputs": []
    },
    {
      "cell_type": "code",
      "metadata": {
        "id": "E6Il4KAGhJsZ"
      },
      "source": [
        "# Get reference images\n",
        "!wget -O ref-cat1.jpg https://storage.googleapis.com/laurencemoroney-blog.appspot.com/MLColabImages/reference-salientcat1.jpg\n",
        "!wget -O ref-cat2.jpg https://storage.googleapis.com/laurencemoroney-blog.appspot.com/MLColabImages/reference-salientcat2.jpg\n",
        "!wget -O ref-catanddog.jpg https://storage.googleapis.com/laurencemoroney-blog.appspot.com/MLColabImages/reference-salientcatanddog.jpg\n",
        "!wget -O ref-dog1.jpg https://storage.googleapis.com/laurencemoroney-blog.appspot.com/MLColabImages/reference-salientdog1.jpg\n",
        "!wget -O ref-dog2.jpg https://storage.googleapis.com/laurencemoroney-blog.appspot.com/MLColabImages/reference-salientdog2.jpg"
      ],
      "execution_count": null,
      "outputs": []
    },
    {
      "cell_type": "code",
      "metadata": {
        "id": "BWndBt7UiGTi"
      },
      "source": [
        "def compare(student_image, ref_image):\n",
        "  student_img = cv2.imread(student_image)\n",
        "  ref_img = cv2.imread(ref_image)\n",
        "  # convert the images to grayscale\n",
        "  student_grey = cv2.cvtColor(student_img, cv2.COLOR_BGR2GRAY)\n",
        "  ref_grey = cv2.cvtColor(ref_img, cv2.COLOR_BGR2GRAY)\n",
        "  (score, diff) = compare_ssim(student_grey, ref_grey, full=True)\n",
        "  diff = (diff * 255).astype(\"uint8\")\n",
        "  return score"
      ],
      "execution_count": null,
      "outputs": []
    },
    {
      "cell_type": "code",
      "metadata": {
        "id": "LItULF7hh0CQ"
      },
      "source": [
        "grade = 0.0\n",
        "score = compare(\"/tmp/salientcat1.jpg\", \"ref-cat1.jpg\")\n",
        "grade+= (score*20)\n",
        "score = compare(\"/tmp/salientcat2.jpg\", \"ref-cat2.jpg\")\n",
        "grade+= (score*20)\n",
        "score = compare(\"/tmp/salientcatanddog.jpg\", \"ref-catanddog.jpg\")\n",
        "grade+= (score*20)\n",
        "score = compare(\"/tmp/salientdog1.jpg\", \"ref-dog1.jpg\")\n",
        "grade+= (score*20)\n",
        "score = compare(\"/tmp/salientdog2.jpg\", \"ref-dog2.jpg\")\n",
        "grade+= (score*20)\n",
        "\n",
        "print(\"Final Grade \" + str(grade))"
      ],
      "execution_count": null,
      "outputs": []
    }
  ]
}