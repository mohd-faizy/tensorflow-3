{
  "nbformat": 4,
  "nbformat_minor": 0,
  "metadata": {
    "colab": {
      "name": "Saliency.ipynb",
      "provenance": [],
      "collapsed_sections": []
    },
    "kernelspec": {
      "name": "python3",
      "display_name": "Python 3"
    },
    "accelerator": "GPU"
  },
  "cells": [
    {
      "cell_type": "code",
      "metadata": {
        "id": "Bb38Bxg_righ"
      },
      "source": [
        "%tensorflow_version 2.x"
      ],
      "execution_count": null,
      "outputs": []
    },
    {
      "cell_type": "code",
      "metadata": {
        "id": "jeuqmYSvrn9w"
      },
      "source": [
        "import tensorflow as tf\n",
        "import tensorflow_hub as hub\n",
        "import cv2\n",
        "import numpy as np\n",
        "import matplotlib.pyplot as plt"
      ],
      "execution_count": null,
      "outputs": []
    },
    {
      "cell_type": "code",
      "metadata": {
        "id": "S2GDglRGrvIl"
      },
      "source": [
        "model = tf.keras.Sequential([\n",
        "    hub.KerasLayer('https://tfhub.dev/google/tf2-preview/inception_v3/classification/4'),\n",
        "    tf.keras.layers.Activation('softmax')\n",
        "])\n",
        "model.build([None, 299, 299, 3])  # Batch input shape."
      ],
      "execution_count": null,
      "outputs": []
    },
    {
      "cell_type": "code",
      "metadata": {
        "id": "LlAXGlVhuFXb"
      },
      "source": [
        "!wget -O image.jpg https://cdn.pixabay.com/photo/2018/02/27/14/11/the-pacific-ocean-3185553_960_720.jpg\n",
        "# If you want to try the cat, uncomment this line\n",
        "# !wget -O image.jpg https://cdn.pixabay.com/photo/2018/02/27/14/11/the-pacific-ocean-3185553_960_720.jpg"
      ],
      "execution_count": null,
      "outputs": []
    },
    {
      "cell_type": "code",
      "metadata": {
        "id": "9sDUZf6Sui1_"
      },
      "source": [
        "img = cv2.imread('image.jpg')\n",
        "img = cv2.cvtColor(img, cv2.COLOR_BGR2RGB) \n",
        "img = cv2.resize(img, (299, 299)) / 255.0\n",
        "images = np.expand_dims(img, axis=0)"
      ],
      "execution_count": null,
      "outputs": []
    },
    {
      "cell_type": "code",
      "metadata": {
        "id": "b2bGeCW_-vbl"
      },
      "source": [
        "plt.figure(figsize=(8, 8))\n",
        "plt.imshow(img)\n",
        "plt.axis('off')\n",
        "plt.show()"
      ],
      "execution_count": null,
      "outputs": []
    },
    {
      "cell_type": "code",
      "metadata": {
        "id": "hoBGoGcqsOfi"
      },
      "source": [
        "class_index = 251   # Siberian Husky's class ID in ImageNet\n",
        "# If you want to try the cat, uncomment this line\n",
        "#class_index = 282   # Tabby Cat in ImageNet\n",
        "num_classes = 1001\n",
        "expected_output = tf.one_hot([class_index] * images.shape[0], num_classes)\n",
        "\n",
        "with tf.GradientTape() as tape:\n",
        "    inputs = tf.cast(images, tf.float32)\n",
        "    tape.watch(inputs)\n",
        "    predictions = model(inputs)\n",
        "    loss = tf.keras.losses.categorical_crossentropy(\n",
        "        expected_output, predictions\n",
        "    )\n",
        "\n",
        "gradients = tape.gradient(loss, inputs)"
      ],
      "execution_count": null,
      "outputs": []
    },
    {
      "cell_type": "code",
      "metadata": {
        "id": "ODpAzA-vsTTi"
      },
      "source": [
        "grayscale_tensor = tf.reduce_sum(tf.abs(gradients), axis=-1)\n",
        "normalized_tensor = tf.cast(\n",
        "    255\n",
        "    * (grayscale_tensor - tf.reduce_min(grayscale_tensor))\n",
        "    / (tf.reduce_max(grayscale_tensor) - tf.reduce_min(grayscale_tensor)),\n",
        "    tf.uint8,\n",
        ")\n",
        "normalized_tensor = tf.squeeze(normalized_tensor)"
      ],
      "execution_count": null,
      "outputs": []
    },
    {
      "cell_type": "code",
      "metadata": {
        "id": "IXOyqipj5Fz6"
      },
      "source": [
        "np.max(gradients), np.min(gradients)"
      ],
      "execution_count": null,
      "outputs": []
    },
    {
      "cell_type": "code",
      "metadata": {
        "id": "xW1C4JGLvYMk"
      },
      "source": [
        "plt.figure(figsize=(8, 8))\n",
        "plt.axis('off')\n",
        "plt.imshow(normalized_tensor, cmap='gray')\n",
        "plt.show()"
      ],
      "execution_count": null,
      "outputs": []
    },
    {
      "cell_type": "code",
      "metadata": {
        "id": "OeULunlW2Vln"
      },
      "source": [
        "gradient_color = cv2.applyColorMap(normalized_tensor.numpy(), cv2.COLORMAP_HOT)\n",
        "gradient_color = gradient_color / 255.0\n",
        "super_imposed = cv2.addWeighted(img, 0.5, gradient_color, 0.5, 0.0)"
      ],
      "execution_count": null,
      "outputs": []
    },
    {
      "cell_type": "code",
      "metadata": {
        "id": "tem1asjg2Vxx"
      },
      "source": [
        "plt.figure(figsize=(8, 8))\n",
        "plt.imshow(super_imposed)\n",
        "plt.axis('off')\n",
        "plt.show()"
      ],
      "execution_count": null,
      "outputs": []
    },
    {
      "cell_type": "code",
      "metadata": {
        "id": "xnn0lBZe0RNw"
      },
      "source": [
        ""
      ],
      "execution_count": null,
      "outputs": []
    }
  ]
}