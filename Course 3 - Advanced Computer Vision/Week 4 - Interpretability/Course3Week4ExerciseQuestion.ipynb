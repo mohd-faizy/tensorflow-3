{
  "nbformat": 4,
  "nbformat_minor": 0,
  "metadata": {
    "colab": {
      "name": "Course3Week4ExerciseQuestion.ipynb",
      "provenance": []
    },
    "kernelspec": {
      "name": "python3",
      "display_name": "Python 3"
    }
  },
  "cells": [
    {
      "cell_type": "markdown",
      "metadata": {
        "id": "vNQiSujBfjWj"
      },
      "source": [
        "# Your Task\n",
        "\n",
        "- Adapt the Cats vs Dogs Class Activation map sample from class to make it generate salient maps instead\n",
        "\n",
        "## Hints\n",
        "- You should change the output layer of the class from 1 neuron to 2, with one for each of the classes\n",
        "- You should change your loss function / optimizer accordingly\n",
        "\n",
        "\n",
        "## Notes\n",
        "- You should download the same 5 images from class and create salience maps from them\n",
        "- The following code can be added to your salience maps to save the image to colab\n",
        "- You should end up with 5 images: salientcat1.jpg, salientcat2.jpg, salientcatanddog.jpg, salientdog1.jpg, salientdog2.jpg\n",
        "- You can save your files by navigating to colab's files folder, right clicking and downloading them. These files will be submitted to the grader\n"
      ]
    },
    {
      "cell_type": "code",
      "metadata": {
        "id": "k39fF4n8fgG0"
      },
      "source": [
        "#Use this code in your function to write the normalized tensor to a file\n",
        "#    salient_image_name = \"salient\" + image\n",
        "#    normalized_tensor = tf.expand_dims(normalized_tensor, -1)\n",
        "#    normalized_tensor = tf.io.encode_jpeg(normalized_tensor, quality=100, format='grayscale')\n",
        "#    writer = tf.io.write_file(salient_image_name, normalized_tensor)"
      ],
      "execution_count": null,
      "outputs": []
    },
    {
      "cell_type": "code",
      "metadata": {
        "id": "vaTZHiDAgp9U"
      },
      "source": [
        "# You should create a new function\n",
        "def do_salience(image):\n",
        "  # YOUR CODE HERE\n",
        "# And this can be called with the 5 images\n",
        "do_salience('cat1.jpg')\n",
        "do_salience('cat2.jpg')\n",
        "do_salience('catanddog.jpg')\n",
        "do_salience('dog1.jpg')\n",
        "do_salience('dog2.jpg')"
      ],
      "execution_count": null,
      "outputs": []
    }
  ]
}