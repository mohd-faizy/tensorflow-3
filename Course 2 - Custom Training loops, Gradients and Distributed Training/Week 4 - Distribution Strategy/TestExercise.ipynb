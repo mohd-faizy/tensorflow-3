{
 "cells": [
  {
   "cell_type": "markdown",
   "metadata": {
    "id": "acWUAGKidozw"
   },
   "source": [
    "# Install tfds-nightly\n",
    "\n",
    "This will prevent a checksum error when downloading the dataset later"
   ]
  },
  {
   "cell_type": "code",
   "execution_count": null,
   "metadata": {
    "id": "1CrqD-nVZRDv"
   },
   "outputs": [],
   "source": [
    "!pip install tfds-nightly"
   ]
  },
  {
   "cell_type": "code",
   "execution_count": null,
   "metadata": {
    "id": "dmB3OwfIR6Jq"
   },
   "outputs": [],
   "source": [
    "import tensorflow as tf"
   ]
  },
  {
   "cell_type": "markdown",
   "metadata": {
    "id": "LPsDAX0dduX5"
   },
   "source": [
    "# Unzip the model\n",
    "\n",
    "The model should be in /mymodel.zip\n",
    "It will be unzipped to /tmp/mymodel\n"
   ]
  },
  {
   "cell_type": "code",
   "execution_count": null,
   "metadata": {
    "id": "V5IcChIhwEGe"
   },
   "outputs": [],
   "source": [
    "from zipfile import ZipFile\n",
    "saved_model_path = \"/mymodel.zip\"\n",
    "\n",
    "# Create a ZipFile Object and load sample.zip in it\n",
    "with ZipFile(saved_model_path, 'r') as zipObj:\n",
    "   # Extract all the contents of zip file in current directory\n",
    "   zipObj.extractall(\"/\")\n"
   ]
  },
  {
   "cell_type": "code",
   "execution_count": null,
   "metadata": {
    "id": "FE7gbLNcR1Or"
   },
   "outputs": [],
   "source": [
    "student_model = tf.saved_model.load(\"/tmp/mymodel/1\")\n",
    "infer = student_model.signatures['serving_default']"
   ]
  },
  {
   "cell_type": "markdown",
   "metadata": {
    "id": "UKbgO0UkdmJz"
   },
   "source": [
    "## Import the Data\n",
    "\n",
    "This will download the oxford flowers dataset from TFDS\n",
    "We will create test examples from the last 90%"
   ]
  },
  {
   "cell_type": "code",
   "execution_count": null,
   "metadata": {
    "id": "cXhUwFmCYxUA"
   },
   "outputs": [],
   "source": [
    "import tensorflow_datasets as tfds\n",
    "splits = ['train[:80%]', 'train[80%:90%]', 'train[90%:]']\n",
    "\n",
    "(train_examples, validation_examples, test_examples), info = tfds.load('oxford_flowers102', with_info=True, as_supervised=True, split = splits)\n",
    "\n",
    "num_examples = info.splits['train'].num_examples\n",
    "num_classes = info.features['label'].num_classes"
   ]
  },
  {
   "cell_type": "code",
   "execution_count": null,
   "metadata": {
    "id": "jlKCcIJNZrIz"
   },
   "outputs": [],
   "source": [
    "# Mapping function to resize the images to 224x224\n",
    "def format_image(image, label):\n",
    "  image = tf.image.resize(image, (224,224)) / 255.0\n",
    "  return  image, label\n",
    "\n",
    "test_batches = test_examples.map(format_image).batch(1)"
   ]
  },
  {
   "cell_type": "code",
   "execution_count": null,
   "metadata": {
    "id": "8r7skbL9aJg5"
   },
   "outputs": [],
   "source": [
    "# Here we will perform the testing. It's only taking the top class, but\n",
    "# this dataset has 102 classes, so often the correct class will be #2 or #3\n",
    "# As such we should give a relatively generous passmark, so I chose 60\n",
    "# The model in my colab gets 69%\n",
    "\n",
    "eval_accuracy = tf.keras.metrics.SparseCategoricalAccuracy(name='eval_accuracy')\n",
    "for images, labels in test_batches:\n",
    "  predictions = infer(images)['output_1']\n",
    "  eval_accuracy(labels, predictions)\n",
    "\n",
    "print(eval_accuracy.result())\n",
    "score = ((eval_accuracy.result()*100).numpy())\n",
    "\n",
    "if score>60:\n",
    "  print(\"Passed\")\n",
    "else:\n",
    "  print(\"Failed\")\n",
    "\n",
    "\n"
   ]
  }
 ],
 "metadata": {
  "accelerator": "GPU",
  "colab": {
   "name": "TestExercise.ipynb",
   "provenance": []
  },
  "kernelspec": {
   "display_name": "Python 3",
   "language": "python",
   "name": "python3"
  },
  "language_info": {
   "codemirror_mode": {
    "name": "ipython",
    "version": 3
   },
   "file_extension": ".py",
   "mimetype": "text/x-python",
   "name": "python",
   "nbconvert_exporter": "python",
   "pygments_lexer": "ipython3",
   "version": "3.7.7"
  }
 },
 "nbformat": 4,
 "nbformat_minor": 4
}
