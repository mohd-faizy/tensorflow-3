{
 "cells": [
  {
   "cell_type": "code",
   "execution_count": null,
   "metadata": {
    "colab": {},
    "colab_type": "code",
    "id": "i_MD3wdwHFn4"
   },
   "outputs": [],
   "source": [
    "#@title Licensed under the Apache License, Version 2.0 (the \"License\");\n",
    "# you may not use this file except in compliance with the License.\n",
    "# You may obtain a copy of the License at\n",
    "#\n",
    "# https://www.apache.org/licenses/LICENSE-2.0\n",
    "#\n",
    "# Unless required by applicable law or agreed to in writing, software\n",
    "# distributed under the License is distributed on an \"AS IS\" BASIS,\n",
    "# WITHOUT WARRANTIES OR CONDITIONS OF ANY KIND, either express or implied.\n",
    "# See the License for the specific language governing permissions and\n",
    "# limitations under the License."
   ]
  },
  {
   "cell_type": "code",
   "execution_count": null,
   "metadata": {
    "colab": {},
    "colab_type": "code",
    "id": "jqev488WJ9-R"
   },
   "outputs": [],
   "source": [
    "import tensorflow as tf\n",
    "import numpy as np"
   ]
  },
  {
   "cell_type": "markdown",
   "metadata": {
    "colab_type": "text",
    "id": "sIIXMZboUw-P"
   },
   "source": [
    "# Exercise on basic Tensor operations"
   ]
  },
  {
   "cell_type": "code",
   "execution_count": null,
   "metadata": {
    "colab": {},
    "colab_type": "code",
    "id": "GkBZyS8hKNXX"
   },
   "outputs": [],
   "source": [
    "# Create a 1D uint8 NumPy array comprising of first 9 natural numbers\n",
    "x = np.arange(1, 10)\n",
    "x"
   ]
  },
  {
   "cell_type": "code",
   "execution_count": null,
   "metadata": {
    "colab": {},
    "colab_type": "code",
    "id": "MYdVyiSoLPgO"
   },
   "outputs": [],
   "source": [
    "# Convert NumPy array to Tensor using `tf.constant`\n",
    "def tf_constant(array):\n",
    "    \n",
    "    ### START CODE HERE ###\n",
    "    tf_constant_array = tf.constant(array)\n",
    "    ### END CODE HERE ###\n",
    "    return tf_constant_array"
   ]
  },
  {
   "cell_type": "code",
   "execution_count": null,
   "metadata": {},
   "outputs": [],
   "source": [
    "x = tf_constant(x)\n",
    "x\n",
    "\n",
    "# Expected output:\n",
    "# <tf.Tensor: shape=(9,), dtype=int64, numpy=array([1, 2, 3, 4, 5, 6, 7, 8, 9])>"
   ]
  },
  {
   "cell_type": "code",
   "execution_count": null,
   "metadata": {
    "colab": {},
    "colab_type": "code",
    "id": "W6BTwNJCLjV8"
   },
   "outputs": [],
   "source": [
    "# Square the input tensor x\n",
    "def tf_square(array):\n",
    "    \n",
    "    ### START CODE HERE ###\n",
    "    tf_squared_array = tf.square(array)\n",
    "    ### END CODE HERE ###\n",
    "    return tf_squared_array"
   ]
  },
  {
   "cell_type": "code",
   "execution_count": null,
   "metadata": {},
   "outputs": [],
   "source": [
    "x = tf_square(x)\n",
    "x\n",
    "\n",
    "# Expected output:\n",
    "# <tf.Tensor: shape=(9,), dtype=int64, numpy=array([ 1,  4,  9, 16, 25, 36, 49, 64, 81])>"
   ]
  },
  {
   "cell_type": "code",
   "execution_count": null,
   "metadata": {
    "colab": {},
    "colab_type": "code",
    "id": "7nzBSX8-L0Xt"
   },
   "outputs": [],
   "source": [
    "# Reshape tensor x into a 3 x 3 matrix\n",
    "def tf_reshape(array, shape):\n",
    "    \n",
    "    ### START CODE HERE ###\n",
    "    tf_reshaped_array = tf.reshape(array, shape)\n",
    "    ### END CODE HERE ###\n",
    "    return tf_reshaped_array"
   ]
  },
  {
   "cell_type": "code",
   "execution_count": null,
   "metadata": {},
   "outputs": [],
   "source": [
    "x = tf_reshape(x, (3, 3))\n",
    "x\n",
    "\n",
    "# Expected output:\n",
    "# <tf.Tensor: shape=(3, 3), dtype=int64, numpy=\n",
    "#\n",
    "# [[  1.,   4.,  9.],\n",
    "#  [ 16.,  25.,  36.],\n",
    "#  [ 49., 64., 81.]]"
   ]
  },
  {
   "cell_type": "code",
   "execution_count": null,
   "metadata": {
    "colab": {},
    "colab_type": "code",
    "id": "VoT-jiAIL8x5"
   },
   "outputs": [],
   "source": [
    "# Cast tensor x into float32 \n",
    "def tf_cast(array, dtype):\n",
    "    \n",
    "    ### START CODE HERE ###\n",
    "    tf_cast_array = tf.cast(array, dtype)\n",
    "    ### END CODE HERE ###\n",
    "    return tf_cast_array"
   ]
  },
  {
   "cell_type": "code",
   "execution_count": null,
   "metadata": {},
   "outputs": [],
   "source": [
    "x = tf_cast(x, tf.float32)\n",
    "x\n",
    "\n",
    "# Expected output:\n",
    "# <tf.Tensor: shape=(3, 3), dtype=float32, numpy=\n",
    "#\n",
    "# [[  1.,   4.,  9.],\n",
    "#  [ 16.,  25.,  36.],\n",
    "#  [ 49., 64., 81.]]"
   ]
  },
  {
   "cell_type": "code",
   "execution_count": null,
   "metadata": {
    "colab": {},
    "colab_type": "code",
    "id": "VjnvT4LLL_5K"
   },
   "outputs": [],
   "source": [
    "y = tf.constant(2, dtype=tf.float32)\n",
    "y"
   ]
  },
  {
   "cell_type": "code",
   "execution_count": null,
   "metadata": {
    "colab": {},
    "colab_type": "code",
    "id": "ivepGtD5MKP5"
   },
   "outputs": [],
   "source": [
    "# Multiply tensor x and y\n",
    "def tf_multiply(num1, num2):\n",
    "    \n",
    "    ### START CODE HERE ###\n",
    "    product = tf.multiply(num1, num2)\n",
    "    ### END CODE HERE ###\n",
    "    return product\n"
   ]
  },
  {
   "cell_type": "code",
   "execution_count": null,
   "metadata": {},
   "outputs": [],
   "source": [
    "result = tf_multiply(x, y)\n",
    "result.numpy()\n",
    "\n",
    "\n",
    "# Expected output:\n",
    "# [[  2.,   8.,  18.],\n",
    "#  [ 32.,  50.,  72.],\n",
    "#  [ 98., 128., 162.]]"
   ]
  },
  {
   "cell_type": "code",
   "execution_count": null,
   "metadata": {
    "colab": {},
    "colab_type": "code",
    "id": "8wzZ5NcMMPzD"
   },
   "outputs": [],
   "source": [
    "y = tf.constant([1, 2, 3], dtype=tf.float32)\n",
    "y"
   ]
  },
  {
   "cell_type": "code",
   "execution_count": null,
   "metadata": {
    "colab": {},
    "colab_type": "code",
    "id": "BVlntdYnMboh"
   },
   "outputs": [],
   "source": [
    "# Add tensor x and y\n",
    "def tf_add(num1, num2):\n",
    "    \n",
    "    ### START CODE HERE ###\n",
    "    sum = num1 + num2\n",
    "    ### END CODE HERE ###\n",
    "    return sum"
   ]
  },
  {
   "cell_type": "code",
   "execution_count": null,
   "metadata": {},
   "outputs": [],
   "source": [
    "result = tf_add(x, y)\n",
    "result\n",
    "\n",
    "# Expected output:\n",
    "# [[ 2.,  6., 12.],\n",
    "#  [17., 27., 39.],\n",
    "#  [50., 66., 84.]]"
   ]
  },
  {
   "cell_type": "markdown",
   "metadata": {
    "colab_type": "text",
    "id": "9EN0W15EWNjD"
   },
   "source": [
    "# Exercise on Gradient Tape"
   ]
  },
  {
   "cell_type": "code",
   "execution_count": null,
   "metadata": {
    "colab": {},
    "colab_type": "code",
    "id": "p3K94BWZM6nW"
   },
   "outputs": [],
   "source": [
    "def tf_gradient_tape(x):\n",
    "    \n",
    "    with tf.GradientTape() as t:\n",
    "        \n",
    "    ### START CODE HERE ###\n",
    "        # Record the actions performed on tensor x with `watch`\n",
    "        t.watch(x)  \n",
    "\n",
    "        # Define a polynomial of form 3x^3 - 2x^2 + x\n",
    "        y =  3 * (x ** 3) - 2 * (x ** 2)  + x    \n",
    "\n",
    "        # Obtain the sum of variable y\n",
    "        z = tf.reduce_sum(y) \n",
    "  \n",
    "    # Derivative of z wrt the original input tensor x\n",
    "    dz_dx = t.gradient(z, x)\n",
    "    ### END CODE HERE\n",
    "    \n",
    "    return dz_dx"
   ]
  },
  {
   "cell_type": "code",
   "execution_count": null,
   "metadata": {
    "colab": {},
    "colab_type": "code",
    "id": "MKy-PXrPPecb"
   },
   "outputs": [],
   "source": [
    "x = tf.constant(2.0)\n",
    "\n",
    "tf_gradient_tape(x)"
   ]
  },
  {
   "cell_type": "code",
   "execution_count": null,
   "metadata": {},
   "outputs": [],
   "source": [
    "# Convert dz_dx into NumPy \n",
    "dz_dx = tf_gradient_tape(x)\n",
    "\n",
    "result = dz_dx.numpy()\n",
    "result\n",
    "\n",
    "# Expected output:\n",
    "# 29.0"
   ]
  },
  {
   "cell_type": "code",
   "execution_count": null,
   "metadata": {},
   "outputs": [],
   "source": []
  }
 ],
 "metadata": {
  "colab": {
   "include_colab_link": true,
   "name": "week1exerciseanswer.ipynb",
   "provenance": []
  },
  "kernelspec": {
   "display_name": "Python 3",
   "language": "python",
   "name": "python3"
  },
  "language_info": {
   "codemirror_mode": {
    "name": "ipython",
    "version": 3
   },
   "file_extension": ".py",
   "mimetype": "text/x-python",
   "name": "python",
   "nbconvert_exporter": "python",
   "pygments_lexer": "ipython3",
   "version": "3.7.6"
  }
 },
 "nbformat": 4,
 "nbformat_minor": 1
}
