{
  "nbformat": 4,
  "nbformat_minor": 0,
  "metadata": {
    "colab": {
      "name": "basictensors.ipynb",
      "provenance": [],
      "include_colab_link": true
    },
    "kernelspec": {
      "name": "python3",
      "display_name": "Python 3"
    }
  },
  "cells": [
    {
      "cell_type": "markdown",
      "metadata": {
        "id": "view-in-github",
        "colab_type": "text"
      },
      "source": [
        "<a href=\"https://colab.research.google.com/github/lmoroney/dlaicourse/blob/master/Advanced%20TensorFlow/Custom%20Training/Week%201%20-%20Differentiation%20and%20Autogradient/week1exerciseanswer.ipynb\" target=\"_parent\"><img src=\"https://colab.research.google.com/assets/colab-badge.svg\" alt=\"Open In Colab\"/></a>"
      ]
    },
    {
      "cell_type": "code",
      "metadata": {
        "id": "i_MD3wdwHFn4",
        "colab_type": "code",
        "colab": {}
      },
      "source": [
        "#@title Licensed under the Apache License, Version 2.0 (the \"License\");\n",
        "# you may not use this file except in compliance with the License.\n",
        "# You may obtain a copy of the License at\n",
        "#\n",
        "# https://www.apache.org/licenses/LICENSE-2.0\n",
        "#\n",
        "# Unless required by applicable law or agreed to in writing, software\n",
        "# distributed under the License is distributed on an \"AS IS\" BASIS,\n",
        "# WITHOUT WARRANTIES OR CONDITIONS OF ANY KIND, either express or implied.\n",
        "# See the License for the specific language governing permissions and\n",
        "# limitations under the License."
      ],
      "execution_count": null,
      "outputs": []
    },
    {
      "cell_type": "code",
      "metadata": {
        "id": "0p84I7yFHRT2",
        "colab_type": "code",
        "colab": {}
      },
      "source": [
        "try:\n",
        "  # %tensorflow_version only exists in Colab.\n",
        "  %tensorflow_version 2.x\n",
        "except Exception:\n",
        "  pass"
      ],
      "execution_count": null,
      "outputs": []
    },
    {
      "cell_type": "code",
      "metadata": {
        "id": "jqev488WJ9-R",
        "colab_type": "code",
        "colab": {}
      },
      "source": [
        "import tensorflow as tf\n",
        "import numpy as np"
      ],
      "execution_count": null,
      "outputs": []
    },
    {
      "cell_type": "markdown",
      "metadata": {
        "id": "sIIXMZboUw-P",
        "colab_type": "text"
      },
      "source": [
        "# Exercise on basic Tensor operations"
      ]
    },
    {
      "cell_type": "code",
      "metadata": {
        "id": "GkBZyS8hKNXX",
        "colab_type": "code",
        "colab": {}
      },
      "source": [
        "# Create a 1D uint8 NumPy array comprising of first 9 natural numbers\n",
        "x = np.arange(1, 10)\n",
        "x"
      ],
      "execution_count": null,
      "outputs": []
    },
    {
      "cell_type": "code",
      "metadata": {
        "id": "MYdVyiSoLPgO",
        "colab_type": "code",
        "colab": {}
      },
      "source": [
        "# Convert NumPy array to Tensor using `tf.constant`\n",
        "x = tf.constant(x)\n",
        "x"
      ],
      "execution_count": null,
      "outputs": []
    },
    {
      "cell_type": "code",
      "metadata": {
        "id": "W6BTwNJCLjV8",
        "colab_type": "code",
        "colab": {}
      },
      "source": [
        "# Square the input tensor x\n",
        "x = tf.square(x)\n",
        "x"
      ],
      "execution_count": null,
      "outputs": []
    },
    {
      "cell_type": "code",
      "metadata": {
        "id": "7nzBSX8-L0Xt",
        "colab_type": "code",
        "colab": {}
      },
      "source": [
        "# Reshape tensor x into a 3 x 3 matrix\n",
        "x = tf.reshape(x, (3, 3))\n",
        "x"
      ],
      "execution_count": null,
      "outputs": []
    },
    {
      "cell_type": "code",
      "metadata": {
        "id": "VoT-jiAIL8x5",
        "colab_type": "code",
        "colab": {}
      },
      "source": [
        "# Cast tensor x into float32 \n",
        "x = tf.cast(x, tf.float32)\n",
        "x"
      ],
      "execution_count": null,
      "outputs": []
    },
    {
      "cell_type": "code",
      "metadata": {
        "id": "VjnvT4LLL_5K",
        "colab_type": "code",
        "colab": {}
      },
      "source": [
        "y = tf.constant(2, dtype=tf.float32)\n",
        "y"
      ],
      "execution_count": null,
      "outputs": []
    },
    {
      "cell_type": "code",
      "metadata": {
        "id": "ivepGtD5MKP5",
        "colab_type": "code",
        "colab": {}
      },
      "source": [
        "# Multiply tensor x and y\n",
        "result = tf.multiply(x, y)\n",
        "result\n",
        "\n",
        "\n",
        "# Expected output:\n",
        "# [[  2.,   8.,  18.],\n",
        "#  [ 32.,  50.,  72.],\n",
        "#  [ 98., 128., 162.]]"
      ],
      "execution_count": null,
      "outputs": []
    },
    {
      "cell_type": "code",
      "metadata": {
        "id": "8wzZ5NcMMPzD",
        "colab_type": "code",
        "colab": {}
      },
      "source": [
        "y = tf.constant([1, 2, 3], dtype=tf.float32)\n",
        "y"
      ],
      "execution_count": null,
      "outputs": []
    },
    {
      "cell_type": "code",
      "metadata": {
        "id": "BVlntdYnMboh",
        "colab_type": "code",
        "colab": {}
      },
      "source": [
        "# Add tensor x and y\n",
        "result = x + y\n",
        "result\n",
        "\n",
        "# Expected output:\n",
        "# [[ 3.,  6., 11.],\n",
        "#  [18., 27., 38.],\n",
        "#  [51., 66., 83.]]"
      ],
      "execution_count": null,
      "outputs": []
    },
    {
      "cell_type": "markdown",
      "metadata": {
        "id": "9EN0W15EWNjD",
        "colab_type": "text"
      },
      "source": [
        "# Exercise on Gradient Tape"
      ]
    },
    {
      "cell_type": "code",
      "metadata": {
        "id": "p3K94BWZM6nW",
        "colab_type": "code",
        "colab": {}
      },
      "source": [
        "x = tf.constant(2.0)\n",
        "\n",
        "with tf.GradientTape() as t:\n",
        "  # Record the actions performed on tensor x with `watch`\n",
        "  t.watch(x)\t\t    \n",
        "\n",
        "  # Define a polynomial of form 3x^3 - 2x^2 + x\n",
        "  y =  3 * (x ** 3) - 2 * (x ** 2)  + x    \n",
        "\n",
        "  # Obtain the sum of variable y\n",
        "  z = tf.reduce_sum(y) \n",
        "  \n",
        "# Derivative of z wrt the original input tensor x\n",
        "dz_dx = t.gradient(z, x)\n",
        "dz_dx"
      ],
      "execution_count": null,
      "outputs": []
    },
    {
      "cell_type": "code",
      "metadata": {
        "id": "MKy-PXrPPecb",
        "colab_type": "code",
        "colab": {}
      },
      "source": [
        "# Convert dz_dx into NumPy \n",
        "result = dz_dx.numpy()\n",
        "result\n",
        "\n",
        "# Expected output:\n",
        "# 29.0"
      ],
      "execution_count": null,
      "outputs": []
    }
  ]
}