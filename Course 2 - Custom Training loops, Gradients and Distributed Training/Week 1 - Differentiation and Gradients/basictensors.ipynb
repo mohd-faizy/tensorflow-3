{
  "nbformat": 4,
  "nbformat_minor": 0,
  "metadata": {
    "colab": {
      "name": "basictensors.ipynb",
      "provenance": []
    },
    "kernelspec": {
      "name": "python3",
      "display_name": "Python 3"
    }
  },
  "cells": [
    {
      "cell_type": "markdown",
      "metadata": {
        "id": "view-in-github"
      },
      "source": [
        "<a href=\"https://colab.research.google.com/github/lmoroney/dlaicourse/blob/master/Advanced%20TensorFlow/Custom%20Training/Week%201%20-%20Differentiation%20and%20Autogradient/week1exerciseanswer.ipynb\" target=\"_parent\"><img src=\"https://colab.research.google.com/assets/colab-badge.svg\" alt=\"Open In Colab\"/></a>"
      ]
    },
    {
      "cell_type": "code",
      "metadata": {
        "id": "i_MD3wdwHFn4"
      },
      "source": [
        "#@title Licensed under the Apache License, Version 2.0 (the \"License\");\n",
        "# you may not use this file except in compliance with the License.\n",
        "# You may obtain a copy of the License at\n",
        "#\n",
        "# https://www.apache.org/licenses/LICENSE-2.0\n",
        "#\n",
        "# Unless required by applicable law or agreed to in writing, software\n",
        "# distributed under the License is distributed on an \"AS IS\" BASIS,\n",
        "# WITHOUT WARRANTIES OR CONDITIONS OF ANY KIND, either express or implied.\n",
        "# See the License for the specific language governing permissions and\n",
        "# limitations under the License."
      ],
      "execution_count": null,
      "outputs": []
    },
    {
      "cell_type": "code",
      "metadata": {
        "id": "0p84I7yFHRT2"
      },
      "source": [
        "try:\n",
        "  # %tensorflow_version only exists in Colab.\n",
        "  %tensorflow_version 2.x\n",
        "except Exception:\n",
        "  pass"
      ],
      "execution_count": null,
      "outputs": []
    },
    {
      "cell_type": "code",
      "metadata": {
        "id": "jqev488WJ9-R"
      },
      "source": [
        "import tensorflow as tf\n",
        "import numpy as np"
      ],
      "execution_count": null,
      "outputs": []
    },
    {
      "cell_type": "markdown",
      "metadata": {
        "id": "sIIXMZboUw-P"
      },
      "source": [
        "# Exercise on basic Tensor operations"
      ]
    },
    {
      "cell_type": "code",
      "metadata": {
        "id": "GkBZyS8hKNXX"
      },
      "source": [
        "# Create a 1D uint8 NumPy array comprising of first 25 natural numbers\n",
        "x = np.arange(0, 25)\n",
        "x"
      ],
      "execution_count": null,
      "outputs": []
    },
    {
      "cell_type": "code",
      "metadata": {
        "id": "MYdVyiSoLPgO"
      },
      "source": [
        "# Convert NumPy array to Tensor using `tf.constant`\n",
        "x = tf.constant(x)\n",
        "x"
      ],
      "execution_count": null,
      "outputs": []
    },
    {
      "cell_type": "code",
      "metadata": {
        "id": "W6BTwNJCLjV8"
      },
      "source": [
        "# Square the input tensor x\n",
        "x = tf.square(x)\n",
        "x"
      ],
      "execution_count": null,
      "outputs": []
    },
    {
      "cell_type": "code",
      "metadata": {
        "id": "7nzBSX8-L0Xt"
      },
      "source": [
        "# Reshape tensor x into a 5 x 5 matrix\n",
        "x = tf.reshape(x, (5, 5))\n",
        "x"
      ],
      "execution_count": null,
      "outputs": []
    },
    {
      "cell_type": "code",
      "metadata": {
        "id": "VoT-jiAIL8x5"
      },
      "source": [
        "# Cast tensor x into float32 \n",
        "x = tf.cast(x, tf.float32)\n",
        "x"
      ],
      "execution_count": null,
      "outputs": []
    },
    {
      "cell_type": "code",
      "metadata": {
        "id": "VjnvT4LLL_5K"
      },
      "source": [
        "y = tf.constant(2, dtype=tf.float32)\n",
        "y"
      ],
      "execution_count": null,
      "outputs": []
    },
    {
      "cell_type": "code",
      "metadata": {
        "id": "ivepGtD5MKP5"
      },
      "source": [
        "# Multiply tensor x and y\n",
        "result = tf.multiply(x, y)\n",
        "result\n",
        "\n"
      ],
      "execution_count": null,
      "outputs": []
    },
    {
      "cell_type": "code",
      "metadata": {
        "id": "8wzZ5NcMMPzD"
      },
      "source": [
        "y = tf.constant([1, 2, 3, 4, 5], dtype=tf.float32)\n",
        "y"
      ],
      "execution_count": null,
      "outputs": []
    },
    {
      "cell_type": "code",
      "metadata": {
        "id": "BVlntdYnMboh"
      },
      "source": [
        "# Add tensor x and y\n",
        "result = x + y\n",
        "result\n",
        "\n"
      ],
      "execution_count": null,
      "outputs": []
    }
  ]
}