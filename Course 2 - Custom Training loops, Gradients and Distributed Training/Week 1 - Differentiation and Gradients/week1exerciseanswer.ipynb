{
 "cells": [
  {
   "cell_type": "markdown",
   "metadata": {
    "colab_type": "text",
    "id": "view-in-github"
   },
   "source": [
    "<a href=\"https://colab.research.google.com/github/https-deeplearning-ai/tensorflow-3/blob/master/Course%202%20-%20Custom%20Training%20loops%2C%20Gradients%20and%20Distributed%20Training/Week%201%20-%20Differentiation%20and%20Gradients/week1exerciseanswer.ipynb\" target=\"_parent\"><img src=\"https://colab.research.google.com/assets/colab-badge.svg\" alt=\"Open In Colab\"/></a>"
   ]
  },
  {
   "cell_type": "code",
   "execution_count": null,
   "metadata": {
    "colab": {},
    "colab_type": "code",
    "id": "i_MD3wdwHFn4"
   },
   "outputs": [],
   "source": [
    "#@title Licensed under the Apache License, Version 2.0 (the \"License\");\n",
    "# you may not use this file except in compliance with the License.\n",
    "# You may obtain a copy of the License at\n",
    "#\n",
    "# https://www.apache.org/licenses/LICENSE-2.0\n",
    "#\n",
    "# Unless required by applicable law or agreed to in writing, software\n",
    "# distributed under the License is distributed on an \"AS IS\" BASIS,\n",
    "# WITHOUT WARRANTIES OR CONDITIONS OF ANY KIND, either express or implied.\n",
    "# See the License for the specific language governing permissions and\n",
    "# limitations under the License."
   ]
  },
  {
   "cell_type": "code",
   "execution_count": null,
   "metadata": {
    "colab": {},
    "colab_type": "code",
    "id": "0p84I7yFHRT2"
   },
   "outputs": [],
   "source": [
    "try:\n",
    "  # %tensorflow_version only exists in Colab.\n",
    "  %tensorflow_version 2.x\n",
    "except Exception:\n",
    "  pass"
   ]
  },
  {
   "cell_type": "code",
   "execution_count": null,
   "metadata": {
    "colab": {},
    "colab_type": "code",
    "id": "jqev488WJ9-R"
   },
   "outputs": [],
   "source": [
    "import tensorflow as tf\n",
    "import numpy as np"
   ]
  },
  {
   "cell_type": "markdown",
   "metadata": {
    "colab_type": "text",
    "id": "sIIXMZboUw-P"
   },
   "source": [
    "# Exercise on basic Tensor operations"
   ]
  },
  {
   "cell_type": "code",
   "execution_count": null,
   "metadata": {
    "colab": {},
    "colab_type": "code",
    "id": "GkBZyS8hKNXX"
   },
   "outputs": [],
   "source": [
    "# Create a 1D uint8 NumPy array comprising of first 9 natural numbers\n",
    "x = np.arange(1, 10)\n",
    "x"
   ]
  },
  {
   "cell_type": "code",
   "execution_count": null,
   "metadata": {
    "colab": {},
    "colab_type": "code",
    "id": "MYdVyiSoLPgO"
   },
   "outputs": [],
   "source": [
    "# Convert NumPy array to Tensor using `tf.constant`\n",
    "x = tf.constant(x)\n",
    "x"
   ]
  },
  {
   "cell_type": "code",
   "execution_count": null,
   "metadata": {
    "colab": {},
    "colab_type": "code",
    "id": "W6BTwNJCLjV8"
   },
   "outputs": [],
   "source": [
    "# Square the input tensor x\n",
    "x = tf.square(x)\n",
    "x"
   ]
  },
  {
   "cell_type": "code",
   "execution_count": null,
   "metadata": {
    "colab": {},
    "colab_type": "code",
    "id": "7nzBSX8-L0Xt"
   },
   "outputs": [],
   "source": [
    "# Reshape tensor x into a 3 x 3 matrix\n",
    "x = tf.reshape(x, (3, 3))\n",
    "x"
   ]
  },
  {
   "cell_type": "code",
   "execution_count": null,
   "metadata": {
    "colab": {},
    "colab_type": "code",
    "id": "VoT-jiAIL8x5"
   },
   "outputs": [],
   "source": [
    "# Cast tensor x into float32 \n",
    "x = tf.cast(x, tf.float32)\n",
    "x"
   ]
  },
  {
   "cell_type": "code",
   "execution_count": null,
   "metadata": {
    "colab": {},
    "colab_type": "code",
    "id": "VjnvT4LLL_5K"
   },
   "outputs": [],
   "source": [
    "y = tf.constant(2, dtype=tf.float32)\n",
    "y"
   ]
  },
  {
   "cell_type": "code",
   "execution_count": null,
   "metadata": {
    "colab": {},
    "colab_type": "code",
    "id": "ivepGtD5MKP5"
   },
   "outputs": [],
   "source": [
    "# Multiply tensor x and y\n",
    "result = tf.multiply(x, y)\n",
    "result\n",
    "\n",
    "\n",
    "# Expected output:\n",
    "# [[  2.,   8.,  18.],\n",
    "#  [ 32.,  50.,  72.],\n",
    "#  [ 98., 128., 162.]]"
   ]
  },
  {
   "cell_type": "code",
   "execution_count": null,
   "metadata": {
    "colab": {},
    "colab_type": "code",
    "id": "8wzZ5NcMMPzD"
   },
   "outputs": [],
   "source": [
    "y = tf.constant([1, 2, 3], dtype=tf.float32)\n",
    "y"
   ]
  },
  {
   "cell_type": "code",
   "execution_count": null,
   "metadata": {
    "colab": {},
    "colab_type": "code",
    "id": "BVlntdYnMboh"
   },
   "outputs": [],
   "source": [
    "# Add tensor x and y\n",
    "result = x + y\n",
    "result\n",
    "\n",
    "# Expected output:\n",
    "# [[ 3.,  6., 11.],\n",
    "#  [18., 27., 38.],\n",
    "#  [51., 66., 83.]]"
   ]
  },
  {
   "cell_type": "markdown",
   "metadata": {
    "colab_type": "text",
    "id": "9EN0W15EWNjD"
   },
   "source": [
    "# Exercise on Gradient Tape"
   ]
  },
  {
   "cell_type": "code",
   "execution_count": null,
   "metadata": {
    "colab": {},
    "colab_type": "code",
    "id": "p3K94BWZM6nW"
   },
   "outputs": [],
   "source": [
    "x = tf.constant(2.0)\n",
    "\n",
    "with tf.GradientTape() as t:\n",
    "  # Record the actions performed on tensor x with `watch`\n",
    "  t.watch(x)\t\t    \n",
    "\n",
    "  # Define a polynomial of form 3x^3 - 2x^2 + x\n",
    "  y =  3 * (x ** 3) - 2 * (x ** 2)  + x    \n",
    "\n",
    "  # Obtain the sum of variable y\n",
    "  z = tf.reduce_sum(y) \n",
    "  \n",
    "# Derivative of z wrt the original input tensor x\n",
    "dz_dx = t.gradient(z, x)\n",
    "dz_dx"
   ]
  },
  {
   "cell_type": "code",
   "execution_count": null,
   "metadata": {
    "colab": {},
    "colab_type": "code",
    "id": "MKy-PXrPPecb"
   },
   "outputs": [],
   "source": [
    "# Convert dz_dx into NumPy \n",
    "result = dz_dx.numpy()\n",
    "result\n",
    "\n",
    "# Expected output:\n",
    "# 29.0"
   ]
  }
 ],
 "metadata": {
  "colab": {
   "include_colab_link": true,
   "name": "week1exerciseanswer.ipynb",
   "provenance": []
  },
  "kernelspec": {
   "display_name": "Python 3",
   "language": "python",
   "name": "python3"
  },
  "language_info": {
   "codemirror_mode": {
    "name": "ipython",
    "version": 3
   },
   "file_extension": ".py",
   "mimetype": "text/x-python",
   "name": "python",
   "nbconvert_exporter": "python",
   "pygments_lexer": "ipython3",
   "version": "3.7.4"
  }
 },
 "nbformat": 4,
 "nbformat_minor": 4
}
