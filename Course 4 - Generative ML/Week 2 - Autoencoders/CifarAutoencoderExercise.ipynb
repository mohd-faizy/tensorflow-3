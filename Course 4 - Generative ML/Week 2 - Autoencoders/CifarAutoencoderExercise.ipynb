{
  "nbformat": 4,
  "nbformat_minor": 0,
  "metadata": {
    "colab": {
      "name": "CifarAutoencoderExercise.ipynb",
      "provenance": []
    },
    "kernelspec": {
      "name": "python3",
      "display_name": "Python 3"
    },
    "accelerator": "GPU"
  },
  "cells": [
    {
      "cell_type": "markdown",
      "metadata": {
        "id": "L6S2HVAkSt0p"
      },
      "source": [
        "# Exercise\n",
        "\n",
        "Your task:\n",
        "Created an autoencoder for CIFAR10\n",
        "We've provided starter code for you, but please read the instructions carefully!"
      ]
    },
    {
      "cell_type": "code",
      "metadata": {
        "id": "3EXwoz-KHtWO"
      },
      "source": [
        "try:\n",
        "  # %tensorflow_version only exists in Colab.\n",
        "  %tensorflow_version 2.x\n",
        "except Exception:\n",
        "  pass\n",
        "import tensorflow as tf\n",
        "import tensorflow_datasets as tfds"
      ],
      "execution_count": null,
      "outputs": []
    },
    {
      "cell_type": "code",
      "metadata": {
        "id": "t9F7YsCNIKSA"
      },
      "source": [
        "# Load the data from TFDS into Training and Test Datasets\n",
        "def map_image(image, label):\n",
        "  image = tf.cast(image, dtype=tf.float32)\n",
        "  image = image / 255.0\n",
        "\n",
        "  return image, image\n",
        "\n",
        "train_dataset = # YOUR CODE HERE\n",
        "test_dataset = # YOUR CODE HERE\n"
      ],
      "execution_count": null,
      "outputs": []
    },
    {
      "cell_type": "code",
      "metadata": {
        "id": "Wr-Bok3lRgA3"
      },
      "source": [
        "# CREATE YOUR MODEL USING THE KERAS SEQUENTIAL API\n",
        "# NOTE THAT THE OUTPUT LAYER WILL BE THE SAME DIMENSIONS AS THE ORIGINAL \n",
        "# IMAGE. IF YOUR DEVIATE FROM THESE INSTRUCTIONS YOUR \n",
        "# MODEL MAY NOT BE RECOGNIZED BY THE GRADER AND MAY FAIL\n",
        "from keras.layers import Conv2D, UpSampling2D, BatchNormalization\n",
        "from keras.models import Sequential\n",
        "model = Sequential()\n",
        "\n",
        "# ADD YOUR LAYERS FOR AN AUTO ENCODER HERE\n",
        "\n",
        "# DO NOT CHANGE THE MODEL.COMPILE PARAMETERS\n",
        "model.compile(optimizer='adam', metrics=['accuracy'], loss='mean_squared_error')\n",
        "model.summary()"
      ],
      "execution_count": null,
      "outputs": []
    },
    {
      "cell_type": "code",
      "metadata": {
        "id": "AMBimOnsRvg0"
      },
      "source": [
        "# TRAIN YOUR MODEL. FEEL FREE TO CHANGE PARAMETERS HERE\n",
        "model.fit(train_dataset, steps_per_epoch=10, epochs=50, batch_size=100)"
      ],
      "execution_count": null,
      "outputs": []
    },
    {
      "cell_type": "code",
      "metadata": {
        "id": "pLFpLP-c7rDR"
      },
      "source": [
        "# SAVE YOUR MODEL SO IT CAN BE UPLOADED TO THE INFRASTRUCTURE\n",
        "model.save('mymodel.h5')"
      ],
      "execution_count": null,
      "outputs": []
    },
    {
      "cell_type": "code",
      "metadata": {
        "id": "vFncgqahSQhA"
      },
      "source": [
        "# THE INFRASTRUCTURE WILL TEST YOUR MODEL LIKE THIS\n",
        "# THE LOSS MUST BE < 0.01 and the ACCURACY MUST BE > 0.7 to pass\n",
        "# SO YOU CAN USE THIS CODE TO TEST YOUR MODEL LOCALLY BEFORE UPLOADING\n",
        "result = model.evaluate(test_dataset)"
      ],
      "execution_count": null,
      "outputs": []
    }
  ]
}